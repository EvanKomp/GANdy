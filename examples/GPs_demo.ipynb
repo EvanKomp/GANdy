{
 "cells": [
  {
   "cell_type": "markdown",
   "id": "adverse-monday",
   "metadata": {},
   "source": [
    "# Example of using Gaussian Processes as an uncertainty model"
   ]
  },
  {
   "cell_type": "code",
   "execution_count": 11,
   "id": "requested-industry",
   "metadata": {},
   "outputs": [],
   "source": [
    "import matplotlib.pyplot as plt\n",
    "import numpy\n",
    "import sklearn.datasets\n",
    "import sklearn.model_selection\n",
    "import sklearn.preprocessing\n",
    "\n",
    "import gandy.models.gps"
   ]
  },
  {
   "cell_type": "markdown",
   "id": "waiting-springfield",
   "metadata": {},
   "source": [
    "## A regression task, using the boston dataset"
   ]
  },
  {
   "cell_type": "code",
   "execution_count": 13,
   "id": "applied-renewal",
   "metadata": {},
   "outputs": [],
   "source": [
    "## loading the data\n",
    "Xs, Ys = sklearn.datasets.load_boston(return_X_y=True)\n",
    "Xsr, Xst, Ysr, Yst = sklearn.model_selection.train_test_split(Xs, Ys, train_size = 0.8)\n",
    "## normalizing it\n",
    "norm = sklearn.preprocessing.Normalizer()\n",
    "Xsr = norm.fit_transform(Xsr)\n",
    "Xst = norm.transform(Xst)"
   ]
  },
  {
   "cell_type": "code",
   "execution_count": 14,
   "id": "simplified-benjamin",
   "metadata": {},
   "outputs": [
    {
     "name": "stdout",
     "output_type": "stream",
     "text": [
      "X data:  (506, 13) float64\n",
      "Y data:  (506,) float64\n"
     ]
    }
   ],
   "source": [
    "print('X data: ', Xs.shape, Xs.dtype)\n",
    "print('Y data: ', Ys.shape, Ys.dtype)"
   ]
  },
  {
   "cell_type": "markdown",
   "id": "joint-lunch",
   "metadata": {},
   "source": [
    "We have 13 features and 1 target."
   ]
  },
  {
   "cell_type": "code",
   "execution_count": 15,
   "id": "packed-active",
   "metadata": {},
   "outputs": [],
   "source": [
    "## instantialize our uncertainty model\n",
    "## give it the shapes that we need\n",
    "gpr = gandy.models.gps.ucGaussianProcess.R(xshape=(13,), yshape=(1,))"
   ]
  },
  {
   "cell_type": "code",
   "execution_count": 16,
   "id": "progressive-camcorder",
   "metadata": {},
   "outputs": [],
   "source": [
    "## fit the model\n",
    "gpr.train(Xsr, Ysr)"
   ]
  },
  {
   "cell_type": "code",
   "execution_count": 20,
   "id": "looking-feedback",
   "metadata": {},
   "outputs": [
    {
     "name": "stderr",
     "output_type": "stream",
     "text": [
      "/Users/ek/miniconda3/envs/gandy_env/lib/python3.6/site-packages/sklearn/gaussian_process/_gpr.py:370: UserWarning: Predicted variances smaller than 0. Setting those variances to 0.\n",
      "  warnings.warn(\"Predicted variances smaller than 0. \"\n"
     ]
    }
   ],
   "source": [
    "## make predictions\n",
    "preds, uncs, flags = gpr.predict(Xst, uc_threshold = 0.01)"
   ]
  },
  {
   "cell_type": "code",
   "execution_count": 31,
   "id": "transparent-institute",
   "metadata": {},
   "outputs": [
    {
     "data": {
      "text/plain": [
       "Text(0.5, 1.0, 'Certain and uncertain predictions, boston data')"
      ]
     },
     "execution_count": 31,
     "metadata": {},
     "output_type": "execute_result"
    },
    {
     "data": {
      "image/png": "[encoded data removed]",
      "text/plain": [
       "<Figure size 432x288 with 1 Axes>"
      ]
     },
     "metadata": {
      "needs_background": "light"
     },
     "output_type": "display_data"
    }
   ],
   "source": [
    "fig, ax = plt.subplots()\n",
    "ax.scatter(Yst.reshape(-1,1)[flags == False],\n",
    "           preds[flags == False],\n",
    "           c='b', label='std <= 0.01')\n",
    "ax.scatter(Yst.reshape(-1,1)[flags == True],\n",
    "           preds[flags == True],\n",
    "           c='r', label='std > 0.01')\n",
    "ax.set_xlabel('True target')\n",
    "ax.set_ylabel('Predicted target')\n",
    "plt.legend()\n",
    "ax.set_title('Certain and uncertain predictions, boston data', size=20)"
   ]
  },
  {
   "cell_type": "markdown",
   "id": "affected-lending",
   "metadata": {},
   "source": [
    "## A classification task, using the boston dataset"
   ]
  },
  {
   "cell_type": "code",
   "execution_count": 32,
   "id": "fifty-deadline",
   "metadata": {},
   "outputs": [],
   "source": [
    "## loading the data\n",
    "Xs, Ys = sklearn.datasets.load_iris(return_X_y=True)\n",
    "Xsr, Xst, Ysr, Yst = sklearn.model_selection.train_test_split(Xs, Ys, train_size = 0.8)\n",
    "## normalizing it\n",
    "norm = sklearn.preprocessing.Normalizer()\n",
    "Xsr = norm.fit_transform(Xsr)\n",
    "Xst = norm.transform(Xst)"
   ]
  },
  {
   "cell_type": "code",
   "execution_count": 33,
   "id": "excess-trading",
   "metadata": {},
   "outputs": [
    {
     "name": "stdout",
     "output_type": "stream",
     "text": [
      "X data:  (150, 4) float64\n",
      "Y data:  (150,) int64\n"
     ]
    }
   ],
   "source": [
    "print('X data: ', Xs.shape, Xs.dtype)\n",
    "print('Y data: ', Ys.shape, Ys.dtype)"
   ]
  },
  {
   "cell_type": "code",
   "execution_count": 37,
   "id": "bigger-binding",
   "metadata": {},
   "outputs": [],
   "source": [
    "## instantialize our uncertainty model\n",
    "## give it the shapes that we need\n",
    "gpc = gandy.models.gps.ucGaussianProcess.C(xshape=(4,), yshape=(1,))"
   ]
  },
  {
   "cell_type": "code",
   "execution_count": 38,
   "id": "violent-vacation",
   "metadata": {},
   "outputs": [],
   "source": [
    "## fit the model\n",
    "gpr.train(Xsr, Ysr)"
   ]
  },
  {
   "cell_type": "code",
   "execution_count": 42,
   "id": "sensitive-uncertainty",
   "metadata": {},
   "outputs": [
    {
     "name": "stderr",
     "output_type": "stream",
     "text": [
      "/Users/ek/miniconda3/envs/gandy_env/lib/python3.6/site-packages/sklearn/gaussian_process/_gpr.py:370: UserWarning: Predicted variances smaller than 0. Setting those variances to 0.\n",
      "  warnings.warn(\"Predicted variances smaller than 0. \"\n"
     ]
    }
   ],
   "source": [
    "## make predictions\n",
    "preds, uncs, flags = gpr.predict(Xst, uc_threshold = 0.001)"
   ]
  },
  {
   "cell_type": "code",
   "execution_count": 70,
   "id": "orange-horse",
   "metadata": {},
   "outputs": [
    {
     "name": "stderr",
     "output_type": "stream",
     "text": [
      "<string>:6: RuntimeWarning: Converting input from bool to <class 'numpy.uint8'> for compatibility.\n"
     ]
    }
   ],
   "source": [
    "counts, edges = numpy.histogram(flags, bins=2, density=True)"
   ]
  },
  {
   "cell_type": "code",
   "execution_count": 71,
   "id": "presidential-drawing",
   "metadata": {},
   "outputs": [
    {
     "data": {
      "text/plain": [
       "([<matplotlib.patches.Wedge at 0x1a2924208>,\n",
       "  <matplotlib.patches.Wedge at 0x1a2924e48>],\n",
       " [Text(-1.0759623636622138, 0.22870284646768646, 'precise'),\n",
       "  Text(1.0759623690153899, -0.22870282128297006, 'uncertain')])"
      ]
     },
     "execution_count": 71,
     "metadata": {},
     "output_type": "execute_result"
    },
    {
     "data": {
      "image/png": "[encoded data removed]",
      "text/plain": [
       "<Figure size 432x288 with 1 Axes>"
      ]
     },
     "metadata": {},
     "output_type": "display_data"
    }
   ],
   "source": [
    "fig, ax = plt.subplots()\n",
    "ax.pie(counts, labels=['precise', 'uncertain'])"
   ]
  }
 ],
 "metadata": {
  "kernelspec": {
   "display_name": "Python 3",
   "language": "python",
   "name": "python3"
  },
  "language_info": {
   "codemirror_mode": {
    "name": "ipython",
    "version": 3
   },
   "file_extension": ".py",
   "mimetype": "text/x-python",
   "name": "python",
   "nbconvert_exporter": "python",
   "pygments_lexer": "ipython3",
   "version": "3.6.12"
  }
 },
 "nbformat": 4,
 "nbformat_minor": 5
}
