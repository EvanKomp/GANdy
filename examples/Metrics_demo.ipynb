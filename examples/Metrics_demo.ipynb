{
 "cells": [
  {
   "cell_type": "markdown",
   "id": "sealed-array",
   "metadata": {},
   "source": [
    "## Import Relevent Libaries and Modules"
   ]
  },
  {
   "cell_type": "code",
   "execution_count": 78,
   "id": "downtown-dairy",
   "metadata": {},
   "outputs": [],
   "source": [
    "import matplotlib.pyplot as plt\n",
    "import numpy as np\n",
    "import sklearn.datasets\n",
    "import sklearn.model_selection\n",
    "import sklearn.metrics\n",
    "import sklearn.preprocessing\n",
    "\n",
    "import gandy.models.gps\n",
    "import gandy.quality_est.metrics as metrics\n",
    "\n",
    "import uncertainty_toolbox as uct"
   ]
  },
  {
   "cell_type": "markdown",
   "id": "sharing-dinner",
   "metadata": {},
   "source": [
    "## Regression Task Example"
   ]
  },
  {
   "cell_type": "markdown",
   "id": "nearby-auction",
   "metadata": {},
   "source": [
    "### Load dataset"
   ]
  },
  {
   "cell_type": "code",
   "execution_count": 79,
   "id": "relative-narrative",
   "metadata": {},
   "outputs": [],
   "source": [
    "Xs, Ys = sklearn.datasets.load_boston(return_X_y=True)\n",
    "Xsr, Xst, Ysr, Yst = sklearn.model_selection.train_test_split(Xs, Ys, train_size = 0.8)\n",
    "\n",
    "# normalize\n",
    "norm = sklearn.preprocessing.Normalizer()\n",
    "Xsr = norm.fit_transform(Xsr)\n",
    "Xst = norm.transform(Xst)"
   ]
  },
  {
   "cell_type": "markdown",
   "id": "correct-craps",
   "metadata": {},
   "source": [
    "### Instantiate, Train, and Predict using Gaussian Process Model"
   ]
  },
  {
   "cell_type": "code",
   "execution_count": 80,
   "id": "concerned-empty",
   "metadata": {},
   "outputs": [],
   "source": [
    "gpr = gandy.models.gps.ucGaussianProcess.R(xshape=(13,), yshape=(1,))"
   ]
  },
  {
   "cell_type": "code",
   "execution_count": 81,
   "id": "anonymous-taylor",
   "metadata": {},
   "outputs": [],
   "source": [
    "gpr._train(Xsr, Ysr)"
   ]
  },
  {
   "cell_type": "code",
   "execution_count": 82,
   "id": "defensive-cable",
   "metadata": {},
   "outputs": [
    {
     "name": "stderr",
     "output_type": "stream",
     "text": [
      "/opt/miniconda3/lib/python3.8/site-packages/sklearn/gaussian_process/_gpr.py:370: UserWarning: Predicted variances smaller than 0. Setting those variances to 0.\n",
      "  warnings.warn(\"Predicted variances smaller than 0. \"\n"
     ]
    }
   ],
   "source": [
    "preds, uncs, flags = gpr.predict(Xst, uc_threshold = 0.01)"
   ]
  },
  {
   "cell_type": "markdown",
   "id": "embedded-madness",
   "metadata": {},
   "source": [
    "## 2 Main Regression Metrics "
   ]
  },
  {
   "cell_type": "markdown",
   "id": "anticipated-slovenia",
   "metadata": {},
   "source": [
    "* **Metric 1: Mean-squared Error (MSE)**"
   ]
  },
  {
   "cell_type": "code",
   "execution_count": 83,
   "id": "looking-tomorrow",
   "metadata": {},
   "outputs": [
    {
     "data": {
      "text/plain": [
       "240.65260645865183"
      ]
     },
     "execution_count": 83,
     "metadata": {},
     "output_type": "execute_result"
    }
   ],
   "source": [
    "MSE, MSE_values = metrics.MSE(preds, Yst.reshape(-1,1)).calculate()\n",
    "MSE "
   ]
  },
  {
   "cell_type": "code",
   "execution_count": 84,
   "id": "intense-honolulu",
   "metadata": {},
   "outputs": [
    {
     "data": {
      "text/plain": [
       "240.65260645865183"
      ]
     },
     "execution_count": 84,
     "metadata": {},
     "output_type": "execute_result"
    }
   ],
   "source": [
    "sklearn.metrics.mean_squared_error(Yst.reshape(-1,1), preds)"
   ]
  },
  {
   "cell_type": "markdown",
   "id": "third-discrimination",
   "metadata": {},
   "source": [
    "* **Metric 2: Root mean-squared Error (RMSE)**"
   ]
  },
  {
   "cell_type": "code",
   "execution_count": 85,
   "id": "distant-subject",
   "metadata": {},
   "outputs": [
    {
     "data": {
      "text/plain": [
       "15.51298186870119"
      ]
     },
     "execution_count": 85,
     "metadata": {},
     "output_type": "execute_result"
    }
   ],
   "source": [
    "RMSE, RMSE_values = metrics.RMSE(preds, Yst.reshape(-1,1)).calculate()\n",
    "RMSE"
   ]
  },
  {
   "cell_type": "code",
   "execution_count": 86,
   "id": "perfect-tunisia",
   "metadata": {},
   "outputs": [
    {
     "data": {
      "text/plain": [
       "15.51298186870119"
      ]
     },
     "execution_count": 86,
     "metadata": {},
     "output_type": "execute_result"
    }
   ],
   "source": [
    "sklearn.metrics.mean_squared_error(preds, Yst.reshape(-1,1), squared=False)"
   ]
  },
  {
   "cell_type": "markdown",
   "id": "thirty-casting",
   "metadata": {},
   "source": [
    "## Uncertainty Tool box "
   ]
  },
  {
   "cell_type": "code",
   "execution_count": 87,
   "id": "private-montgomery",
   "metadata": {},
   "outputs": [
    {
     "name": "stdout",
     "output_type": "stream",
     "text": [
      " (1/n) Calculating accuracy metrics\n",
      " (2/n) Calculating average calibration metrics\n"
     ]
    },
    {
     "name": "stderr",
     "output_type": "stream",
     "text": [
      "/opt/miniconda3/lib/python3.8/site-packages/numpy/lib/function_base.py:2551: RuntimeWarning: Degrees of freedom <= 0 for slice\n",
      "  c = cov(x, y, rowvar)\n",
      "/opt/miniconda3/lib/python3.8/site-packages/numpy/lib/function_base.py:2480: RuntimeWarning: divide by zero encountered in true_divide\n",
      "  c *= np.true_divide(1, fact)\n",
      "/opt/miniconda3/lib/python3.8/site-packages/numpy/lib/function_base.py:2480: RuntimeWarning: invalid value encountered in multiply\n",
      "  c *= np.true_divide(1, fact)\n",
      "/Users/kmosko/direct/uncertainty-toolbox/uncertainty_toolbox/metrics_calibration.py:247: RuntimeWarning: divide by zero encountered in true_divide\n",
      "  normalized_residuals = residuals.reshape(-1) / y_std.reshape(-1)\n",
      "  0%|          | 0/10 [00:00<?, ?it/s]/Users/kmosko/direct/uncertainty-toolbox/uncertainty_toolbox/metrics_calibration.py:202: RuntimeWarning: divide by zero encountered in true_divide\n",
      "  normalized_residuals = (residuals.flatten() / y_std.flatten()).reshape(-1, 1)\n",
      " 20%|██        | 2/10 [00:00<00:00, 12.72it/s]"
     ]
    },
    {
     "name": "stdout",
     "output_type": "stream",
     "text": [
      " (3/n) Calculating adversarial group calibration metrics\n",
      "  [1/2] for mean absolute calibration error\n",
      "Measuring adversarial group calibration by spanning group size between 0.0 and 1.0, in 10 intervals\n"
     ]
    },
    {
     "name": "stderr",
     "output_type": "stream",
     "text": [
      "100%|██████████| 10/10 [00:00<00:00, 11.99it/s]\n",
      " 20%|██        | 2/10 [00:00<00:00, 11.88it/s]"
     ]
    },
    {
     "name": "stdout",
     "output_type": "stream",
     "text": [
      "  [2/2] for root mean squared calibration error\n",
      "Measuring adversarial group calibration by spanning group size between 0.0 and 1.0, in 10 intervals\n"
     ]
    },
    {
     "name": "stderr",
     "output_type": "stream",
     "text": [
      "100%|██████████| 10/10 [00:00<00:00, 11.86it/s]\n",
      "/opt/miniconda3/lib/python3.8/site-packages/scipy/stats/_distn_infrastructure.py:1877: RuntimeWarning: divide by zero encountered in true_divide\n",
      "  x = np.asarray((x - loc)/scale, dtype=dtyp)\n",
      "/Users/kmosko/direct/uncertainty-toolbox/uncertainty_toolbox/metrics_scoring_rule.py:62: RuntimeWarning: divide by zero encountered in true_divide\n",
      "  y_standardized = (y_true - y_pred) / y_std\n",
      "/Users/kmosko/direct/uncertainty-toolbox/uncertainty_toolbox/metrics_scoring_rule.py:67: RuntimeWarning: invalid value encountered in multiply\n",
      "  crps_list = -1 * y_std * (term_1 - term_2 - term_3)\n",
      "/opt/miniconda3/lib/python3.8/site-packages/scipy/stats/_distn_infrastructure.py:2098: RuntimeWarning: invalid value encountered in multiply\n",
      "  lower_bound = _a * scale + loc\n",
      "/opt/miniconda3/lib/python3.8/site-packages/scipy/stats/_distn_infrastructure.py:2099: RuntimeWarning: invalid value encountered in multiply\n",
      "  upper_bound = _b * scale + loc\n"
     ]
    },
    {
     "name": "stdout",
     "output_type": "stream",
     "text": [
      " (4/n) Calculating sharpness metrics\n",
      " (n/n) Calculating proper scoring rule metrics\n",
      "**Finished Calculating All Metrics**\n",
      "\n",
      "\n",
      "===================== Accuracy Metrics =====================\n",
      "  MAE           5.272\n",
      "  RMSE          15.513\n",
      "  MDAE          2.485\n",
      "  MARPD         21.323\n",
      "  R2            -2.292\n",
      "  Correlation   nan\n",
      "=============== Average Calibration Metrics ================\n",
      "  Root-mean-squared Calibration Error   0.570\n",
      "  Mean-absolute Calibration Error       0.490\n",
      "  Miscalibration Area                   0.495\n",
      "========== Adversarial Group Calibration Metrics ===========\n",
      "  Mean-absolute Adversarial Group Calibration Error\n",
      "     Group Size: 0.11 -- Calibration Error: 0.490\n",
      "     Group Size: 0.56 -- Calibration Error: 0.490\n",
      "     Group Size: 1.00 -- Calibration Error: 0.490\n",
      "  Root-mean-squared Adversarial Group Calibration Error\n",
      "     Group Size: 0.11 -- Calibration Error: 0.570\n",
      "     Group Size: 0.56 -- Calibration Error: 0.570\n",
      "     Group Size: 1.00 -- Calibration Error: 0.570\n",
      "==================== Sharpness Metrics =====================\n",
      "  Sharpness   0.005\n",
      "=================== Scoring Rule Metrics ===================\n",
      "  Negative-log-likelihood   nan\n",
      "  CRPS                      nan\n",
      "  Check Score               nan\n",
      "  Interval Score            nan\n"
     ]
    }
   ],
   "source": [
    "metrics = uct.metrics.get_all_metrics(preds, uncs, Yst.reshape(-1,1))"
   ]
  },
  {
   "cell_type": "markdown",
   "id": "interior-evans",
   "metadata": {},
   "source": [
    "## Classification Task Example"
   ]
  },
  {
   "cell_type": "markdown",
   "id": "chinese-constant",
   "metadata": {},
   "source": [
    "### Load Dataset"
   ]
  },
  {
   "cell_type": "code",
   "execution_count": 113,
   "id": "worth-clock",
   "metadata": {},
   "outputs": [],
   "source": [
    "Xs, Ys = sklearn.datasets.load_iris(return_X_y=True)\n",
    "Xsr, Xst, Ysr, Yst = sklearn.model_selection.train_test_split(Xs, Ys, train_size = 0.8)\n",
    "\n",
    "# normalize\n",
    "norm = sklearn.preprocessing.Normalizer()\n",
    "Xsr = norm.fit_transform(Xsr)\n",
    "Xst = norm.transform(Xst)"
   ]
  },
  {
   "cell_type": "markdown",
   "id": "infrared-eugene",
   "metadata": {},
   "source": [
    "### Instantiate, Train, and Predict using Gaussian Process Model"
   ]
  },
  {
   "cell_type": "code",
   "execution_count": 114,
   "id": "trying-graph",
   "metadata": {},
   "outputs": [],
   "source": [
    "gpc = gandy.models.gps.ucGaussianProcess.C(xshape=(4,), yshape=(1,))"
   ]
  },
  {
   "cell_type": "code",
   "execution_count": 115,
   "id": "extraordinary-preservation",
   "metadata": {},
   "outputs": [],
   "source": [
    "gpc._train(Xsr, Ysr)"
   ]
  },
  {
   "cell_type": "code",
   "execution_count": 116,
   "id": "golden-luther",
   "metadata": {},
   "outputs": [
    {
     "ename": "ValueError",
     "evalue": "cannot reshape array of size 90 into shape (30,1)",
     "output_type": "error",
     "traceback": [
      "\u001b[0;31m---------------------------------------------------------------------------\u001b[0m",
      "\u001b[0;31mValueError\u001b[0m                                Traceback (most recent call last)",
      "\u001b[0;32m<ipython-input-116-1ed35fb592dd>\u001b[0m in \u001b[0;36m<module>\u001b[0;34m\u001b[0m\n\u001b[0;32m----> 1\u001b[0;31m \u001b[0mpreds\u001b[0m\u001b[0;34m,\u001b[0m \u001b[0muncs\u001b[0m\u001b[0;34m,\u001b[0m \u001b[0mflags\u001b[0m \u001b[0;34m=\u001b[0m \u001b[0mgpc\u001b[0m\u001b[0;34m.\u001b[0m\u001b[0mpredict\u001b[0m\u001b[0;34m(\u001b[0m\u001b[0mXst\u001b[0m\u001b[0;34m,\u001b[0m \u001b[0muc_threshold\u001b[0m \u001b[0;34m=\u001b[0m \u001b[0;36m0.001\u001b[0m\u001b[0;34m)\u001b[0m\u001b[0;34m\u001b[0m\u001b[0;34m\u001b[0m\u001b[0m\n\u001b[0m",
      "\u001b[0;32m/opt/miniconda3/lib/python3.8/site-packages/gandy/models/models.py\u001b[0m in \u001b[0;36mpredict\u001b[0;34m(self, Xs, uc_threshold, **kwargs)\u001b[0m\n\u001b[1;32m    292\u001b[0m         \u001b[0mpredictions\u001b[0m\u001b[0;34m,\u001b[0m \u001b[0muncertainties\u001b[0m \u001b[0;34m=\u001b[0m \u001b[0mself\u001b[0m\u001b[0;34m.\u001b[0m\u001b[0m_predict\u001b[0m\u001b[0;34m(\u001b[0m\u001b[0mXs_\u001b[0m\u001b[0;34m,\u001b[0m \u001b[0;34m**\u001b[0m\u001b[0mkwargs\u001b[0m\u001b[0;34m)\u001b[0m\u001b[0;34m\u001b[0m\u001b[0;34m\u001b[0m\u001b[0m\n\u001b[1;32m    293\u001b[0m         \u001b[0mpredictions\u001b[0m \u001b[0;34m=\u001b[0m \u001b[0mnumpy\u001b[0m\u001b[0;34m.\u001b[0m\u001b[0marray\u001b[0m\u001b[0;34m(\u001b[0m\u001b[0mpredictions\u001b[0m\u001b[0;34m)\u001b[0m\u001b[0;34m.\u001b[0m\u001b[0mreshape\u001b[0m\u001b[0;34m(\u001b[0m\u001b[0mlen\u001b[0m\u001b[0;34m(\u001b[0m\u001b[0mXs\u001b[0m\u001b[0;34m)\u001b[0m\u001b[0;34m,\u001b[0m \u001b[0;34m*\u001b[0m\u001b[0mself\u001b[0m\u001b[0;34m.\u001b[0m\u001b[0myshape\u001b[0m\u001b[0;34m)\u001b[0m\u001b[0;34m\u001b[0m\u001b[0;34m\u001b[0m\u001b[0m\n\u001b[0;32m--> 294\u001b[0;31m         uncertainties = numpy.array(uncertainties).reshape(\n\u001b[0m\u001b[1;32m    295\u001b[0m             len(Xs), *self.yshape)\n\u001b[1;32m    296\u001b[0m         \u001b[0;32mtry\u001b[0m\u001b[0;34m:\u001b[0m\u001b[0;34m\u001b[0m\u001b[0;34m\u001b[0m\u001b[0m\n",
      "\u001b[0;31mValueError\u001b[0m: cannot reshape array of size 90 into shape (30,1)"
     ]
    }
   ],
   "source": [
    "preds, uncs, flags = gpc.predict(Xst, uc_threshold = 0.001)"
   ]
  },
  {
   "cell_type": "code",
   "execution_count": null,
   "id": "wrapped-notebook",
   "metadata": {},
   "outputs": [],
   "source": []
  }
 ],
 "metadata": {
  "kernelspec": {
   "display_name": "Python 3",
   "language": "python",
   "name": "python3"
  },
  "language_info": {
   "codemirror_mode": {
    "name": "ipython",
    "version": 3
   },
   "file_extension": ".py",
   "mimetype": "text/x-python",
   "name": "python",
   "nbconvert_exporter": "python",
   "pygments_lexer": "ipython3",
   "version": "3.8.5"
  }
 },
 "nbformat": 4,
 "nbformat_minor": 5
}
