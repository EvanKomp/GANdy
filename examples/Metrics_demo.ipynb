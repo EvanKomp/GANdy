{
 "cells": [
  {
   "cell_type": "markdown",
   "id": "dominican-tobago",
   "metadata": {},
   "source": [
    "## Import Relevent Libaries and Modules"
   ]
  },
  {
   "cell_type": "code",
   "execution_count": 1,
   "id": "starting-sound",
   "metadata": {},
   "outputs": [],
   "source": [
    "import matplotlib.pyplot as plt\n",
    "import numpy as np\n",
    "import sklearn.datasets\n",
    "import sklearn.model_selection\n",
    "import sklearn.metrics\n",
    "import sklearn.preprocessing\n",
    "\n",
    "import gandy.models.gps\n",
    "import gandy.quality_est.metrics as metrics"
   ]
  },
  {
   "cell_type": "markdown",
   "id": "intense-candidate",
   "metadata": {},
   "source": [
    "## Regression Task Example"
   ]
  },
  {
   "cell_type": "markdown",
   "id": "valued-marathon",
   "metadata": {},
   "source": [
    "### Load dataset"
   ]
  },
  {
   "cell_type": "code",
   "execution_count": 2,
   "id": "latest-fitting",
   "metadata": {},
   "outputs": [],
   "source": [
    "Xs, Ys = sklearn.datasets.load_boston(return_X_y=True)\n",
    "Xsr, Xst, Ysr, Yst = sklearn.model_selection.train_test_split(Xs, Ys, train_size = 1)\n",
    "\n",
    "# normalize\n",
    "norm = sklearn.preprocessing.Normalizer()\n",
    "Xsr = norm.fit_transform(Xsr)\n",
    "Xst = norm.transform(Xst)"
   ]
  },
  {
   "cell_type": "markdown",
   "id": "likely-delight",
   "metadata": {},
   "source": [
    "### Instantiate, Train, and Predict using Gaussian Process Model"
   ]
  },
  {
   "cell_type": "code",
   "execution_count": 3,
   "id": "perfect-label",
   "metadata": {},
   "outputs": [],
   "source": [
    "gpr = gandy.models.gps.ucGaussianProcess.R(xshape=(13,), yshape=(1,))"
   ]
  },
  {
   "cell_type": "code",
   "execution_count": 4,
   "id": "challenging-prison",
   "metadata": {},
   "outputs": [],
   "source": [
    "gpr._train(Xsr, Ysr)"
   ]
  },
  {
   "cell_type": "code",
   "execution_count": 5,
   "id": "meaningful-transition",
   "metadata": {},
   "outputs": [],
   "source": [
    "preds, uncs, flags = gpr.predict(Xst, uc_threshold = 0.01)"
   ]
  },
  {
   "cell_type": "markdown",
   "id": "english-pakistan",
   "metadata": {},
   "source": [
    "## 2 Main Regression Metrics "
   ]
  },
  {
   "cell_type": "markdown",
   "id": "israeli-lounge",
   "metadata": {},
   "source": [
    "* **Metric 1: Mean-squared Error (MSE)**"
   ]
  },
  {
   "cell_type": "code",
   "execution_count": 6,
   "id": "ancient-thompson",
   "metadata": {},
   "outputs": [
    {
     "data": {
      "text/plain": [
       "95.46994006077618"
      ]
     },
     "execution_count": 6,
     "metadata": {},
     "output_type": "execute_result"
    }
   ],
   "source": [
    "MSE, MSE_values = metrics.MSE(preds, Yst.reshape(-1,1)).calculate()\n",
    "MSE "
   ]
  },
  {
   "cell_type": "code",
   "execution_count": 7,
   "id": "buried-fundamental",
   "metadata": {},
   "outputs": [
    {
     "data": {
      "text/plain": [
       "95.46994006077618"
      ]
     },
     "execution_count": 7,
     "metadata": {},
     "output_type": "execute_result"
    }
   ],
   "source": [
    "sklearn.metrics.mean_squared_error(Yst.reshape(-1,1), preds)"
   ]
  },
  {
   "cell_type": "markdown",
   "id": "appropriate-stanley",
   "metadata": {},
   "source": [
    "* **Metric 2: Root mean-squared Error (RMSE)**"
   ]
  },
  {
   "cell_type": "code",
   "execution_count": 8,
   "id": "unusual-logging",
   "metadata": {},
   "outputs": [
    {
     "data": {
      "text/plain": [
       "9.77087202151252"
      ]
     },
     "execution_count": 8,
     "metadata": {},
     "output_type": "execute_result"
    }
   ],
   "source": [
    "RMSE, RMSE_values = metrics.RMSE(preds, Yst.reshape(-1,1)).calculate()\n",
    "RMSE"
   ]
  },
  {
   "cell_type": "code",
   "execution_count": 9,
   "id": "constitutional-television",
   "metadata": {},
   "outputs": [
    {
     "data": {
      "text/plain": [
       "9.77087202151252"
      ]
     },
     "execution_count": 9,
     "metadata": {},
     "output_type": "execute_result"
    }
   ],
   "source": [
    "sklearn.metrics.mean_squared_error(preds, Yst.reshape(-1,1), squared=False)"
   ]
  },
  {
   "cell_type": "markdown",
   "id": "analyzed-darwin",
   "metadata": {},
   "source": [
    "## Uncertainty Metric"
   ]
  },
  {
   "cell_type": "code",
   "execution_count": 10,
   "id": "latter-relaxation",
   "metadata": {},
   "outputs": [
    {
     "data": {
      "text/plain": [
       "0.017821782178217824"
      ]
     },
     "execution_count": 10,
     "metadata": {},
     "output_type": "execute_result"
    }
   ],
   "source": [
    "UCP = metrics.UCP(preds, Yst.reshape(-1,1), uncs).calculate()\n",
    "UCP"
   ]
  }
 ],
 "metadata": {
  "kernelspec": {
   "display_name": "Python 3",
   "language": "python",
   "name": "python3"
  },
  "language_info": {
   "codemirror_mode": {
    "name": "ipython",
    "version": 3
   },
   "file_extension": ".py",
   "mimetype": "text/x-python",
   "name": "python",
   "nbconvert_exporter": "python",
   "pygments_lexer": "ipython3",
   "version": "3.8.5"
  }
 },
 "nbformat": 4,
 "nbformat_minor": 5
}
