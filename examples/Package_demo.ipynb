{
 "cells": [
  {
   "cell_type": "markdown",
   "id": "listed-ministry",
   "metadata": {},
   "source": [
    "# GANdy package uses demonstration\n",
    "Status @ 03.15.21\n",
    "***"
   ]
  },
  {
   "cell_type": "code",
   "execution_count": 9,
   "id": "boring-vermont",
   "metadata": {},
   "outputs": [],
   "source": [
    "## imports"
   ]
  },
  {
   "cell_type": "markdown",
   "id": "lucky-defeat",
   "metadata": {},
   "source": [
    "***"
   ]
  },
  {
   "cell_type": "markdown",
   "id": "sublime-stadium",
   "metadata": {},
   "source": [
    "In order to test our models on the ability to predict uncertainty, we synthesized test cases with known uncertainty functions. With these, we can compare the predicted uncertainties to the \"true\" value.\n",
    "\n",
    "This was done foundationally as follows:\n",
    "\n",
    "__Dataset 1__: \n",
    "- With some analytical function $f(x_1, x_2)$\n",
    "- Introduce x dependant noise $g(x_1, x_2)$\n",
    "- create a dataset of $y(x_1, x_2) = g + f$\n",
    "\n",
    "__Dataset 2__:\n",
    "- Repeat above but use QM9 molecular property data instead of an analytical function"
   ]
  },
  {
   "cell_type": "markdown",
   "id": "sized-stevens",
   "metadata": {},
   "source": [
    "## <span style=\"color:orange\"> Loading and preparing the data</span>"
   ]
  },
  {
   "cell_type": "code",
   "execution_count": 1,
   "id": "imported-manitoba",
   "metadata": {},
   "outputs": [],
   "source": [
    "## Code"
   ]
  },
  {
   "cell_type": "code",
   "execution_count": 2,
   "id": "important-parade",
   "metadata": {},
   "outputs": [],
   "source": [
    "## Code"
   ]
  },
  {
   "cell_type": "code",
   "execution_count": 3,
   "id": "complicated-malawi",
   "metadata": {},
   "outputs": [],
   "source": [
    "## Code"
   ]
  },
  {
   "cell_type": "markdown",
   "id": "eleven-butterfly",
   "metadata": {},
   "source": [
    "***"
   ]
  },
  {
   "cell_type": "markdown",
   "id": "instant-checklist",
   "metadata": {},
   "source": [
    "We then instatialize and train our models on these datasets. All models are built on the same class framework so follow the same procedure."
   ]
  },
  {
   "cell_type": "markdown",
   "id": "three-march",
   "metadata": {},
   "source": [
    "## <span style=\"color:orange\">Gaussian processes</span>"
   ]
  },
  {
   "cell_type": "code",
   "execution_count": 1,
   "id": "declared-magic",
   "metadata": {},
   "outputs": [],
   "source": [
    "## Code"
   ]
  },
  {
   "cell_type": "code",
   "execution_count": 2,
   "id": "standing-interval",
   "metadata": {},
   "outputs": [],
   "source": [
    "## Code"
   ]
  },
  {
   "cell_type": "code",
   "execution_count": 3,
   "id": "accredited-injection",
   "metadata": {},
   "outputs": [],
   "source": [
    "## Code"
   ]
  },
  {
   "cell_type": "markdown",
   "id": "unlimited-caribbean",
   "metadata": {},
   "source": [
    "## <span style=\"color:orange\"> Bayesian Neural Networks</span>"
   ]
  },
  {
   "cell_type": "code",
   "execution_count": 1,
   "id": "boolean-baker",
   "metadata": {},
   "outputs": [],
   "source": [
    "## Code"
   ]
  },
  {
   "cell_type": "code",
   "execution_count": 2,
   "id": "relative-increase",
   "metadata": {},
   "outputs": [],
   "source": [
    "## Code"
   ]
  },
  {
   "cell_type": "code",
   "execution_count": 3,
   "id": "detected-customer",
   "metadata": {},
   "outputs": [],
   "source": [
    "## Code"
   ]
  },
  {
   "cell_type": "markdown",
   "id": "historic-armenia",
   "metadata": {},
   "source": [
    "## <span style=\"color:orange\"> Generative Adversarial Networks</span>"
   ]
  },
  {
   "cell_type": "code",
   "execution_count": 1,
   "id": "first-magnet",
   "metadata": {},
   "outputs": [],
   "source": [
    "## Code"
   ]
  },
  {
   "cell_type": "code",
   "execution_count": 2,
   "id": "streaming-seating",
   "metadata": {},
   "outputs": [],
   "source": [
    "## Code"
   ]
  },
  {
   "cell_type": "code",
   "execution_count": 3,
   "id": "respected-chancellor",
   "metadata": {},
   "outputs": [],
   "source": [
    "## Code"
   ]
  },
  {
   "cell_type": "markdown",
   "id": "entitled-asian",
   "metadata": {},
   "source": [
    "***"
   ]
  },
  {
   "cell_type": "markdown",
   "id": "controlled-extraction",
   "metadata": {},
   "source": [
    "It might also be desireable to conduct hyperparameter search over a given model type's hyperparameters. This is achieved with the an optimization routine using [Optuna](https://github.com/optuna/optuna)'s code wrapped to fit our Uncertainty Model class."
   ]
  },
  {
   "cell_type": "markdown",
   "id": "possible-session",
   "metadata": {},
   "source": [
    "## <span style=\"color:orange\">Running a hyperparameter optimization</span>"
   ]
  },
  {
   "cell_type": "code",
   "execution_count": 1,
   "id": "moving-musical",
   "metadata": {},
   "outputs": [],
   "source": [
    "## Code"
   ]
  },
  {
   "cell_type": "code",
   "execution_count": 2,
   "id": "former-device",
   "metadata": {},
   "outputs": [],
   "source": [
    "## Code"
   ]
  },
  {
   "cell_type": "code",
   "execution_count": 3,
   "id": "smaller-approach",
   "metadata": {},
   "outputs": [],
   "source": [
    "## Code"
   ]
  },
  {
   "cell_type": "markdown",
   "id": "funded-arcade",
   "metadata": {},
   "source": [
    "***"
   ]
  },
  {
   "cell_type": "markdown",
   "id": "forty-juice",
   "metadata": {},
   "source": [
    "Finally, we want to evaluate our model on its ability to predict uncertainty, such that future predictions of uncertainty are trusted."
   ]
  },
  {
   "cell_type": "code",
   "execution_count": 1,
   "id": "applied-lecture",
   "metadata": {},
   "outputs": [],
   "source": [
    "## Code"
   ]
  },
  {
   "cell_type": "code",
   "execution_count": 2,
   "id": "outer-traveler",
   "metadata": {},
   "outputs": [],
   "source": [
    "## Code"
   ]
  },
  {
   "cell_type": "code",
   "execution_count": 3,
   "id": "accessible-essay",
   "metadata": {},
   "outputs": [],
   "source": [
    "## Code"
   ]
  }
 ],
 "metadata": {
  "kernelspec": {
   "display_name": "Python 3",
   "language": "python",
   "name": "python3"
  },
  "language_info": {
   "codemirror_mode": {
    "name": "ipython",
    "version": 3
   },
   "file_extension": ".py",
   "mimetype": "text/x-python",
   "name": "python",
   "nbconvert_exporter": "python",
   "pygments_lexer": "ipython3",
   "version": "3.7.10"
  }
 },
 "nbformat": 4,
 "nbformat_minor": 5
}
