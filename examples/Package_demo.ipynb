{
 "cells": [
  {
   "cell_type": "markdown",
   "id": "coordinate-sender",
   "metadata": {},
   "source": [
    "# GANdy package uses demonstration\n",
    "Status @ 03.15.21\n",
    "***"
   ]
  },
  {
   "cell_type": "code",
   "execution_count": 1,
   "id": "transparent-engagement",
   "metadata": {},
   "outputs": [],
   "source": [
    "import importlib"
   ]
  },
  {
   "cell_type": "code",
   "execution_count": 2,
   "id": "official-circle",
   "metadata": {},
   "outputs": [],
   "source": [
    "# imports\n",
    "import matplotlib.pyplot as plt\n",
    "from mpl_toolkits.mplot3d import Axes3D\n",
    "import numpy as np\n",
    "import pandas as pd\n",
    "import sklearn.preprocessing\n",
    "import sklearn.model_selection\n",
    "\n",
    "import gandy.quality_est.datagen as gandy_datagen\n",
    "import gandy.models.gps as gandy_gps\n",
    "import gandy.models.bnns as gandy_bnns\n",
    "import gandy.models.gans as gandy_gans\n",
    "import gandy.optimization.hypersearch as gandy_opt\n",
    "\n",
    "%matplotlib inline"
   ]
  },
  {
   "cell_type": "markdown",
   "id": "documented-macro",
   "metadata": {},
   "source": [
    "***"
   ]
  },
  {
   "cell_type": "markdown",
   "id": "specified-chile",
   "metadata": {},
   "source": [
    "In order to test our models on the ability to predict uncertainty, we synthesized test cases with known uncertainty functions. With these, we can compare the predicted uncertainties to the \"true\" value.\n",
    "\n",
    "This was done foundationally as follows:\n",
    "\n",
    "__Dataset 1__: \n",
    "- With some analytical function $f(x_1, x_2)$\n",
    "- Introduce x dependant noise $g(x_1, x_2)$\n",
    "- create a dataset of $y(x_1, x_2) = g + f$\n",
    "\n",
    "__Dataset 2__:\n",
    "- Repeat above but use QM9 molecular property data instead of an analytical function"
   ]
  },
  {
   "cell_type": "markdown",
   "id": "standard-bathroom",
   "metadata": {},
   "source": [
    "## <span style=\"color:orange\"> Loading and preparing the data</span>"
   ]
  },
  {
   "cell_type": "code",
   "execution_count": 3,
   "id": "better-luther",
   "metadata": {},
   "outputs": [
    {
     "data": {
      "text/html": [
       "<div>\n",
       "<style scoped>\n",
       "    .dataframe tbody tr th:only-of-type {\n",
       "        vertical-align: middle;\n",
       "    }\n",
       "\n",
       "    .dataframe tbody tr th {\n",
       "        vertical-align: top;\n",
       "    }\n",
       "\n",
       "    .dataframe thead th {\n",
       "        text-align: right;\n",
       "    }\n",
       "</style>\n",
       "<table border=\"1\" class=\"dataframe\">\n",
       "  <thead>\n",
       "    <tr style=\"text-align: right;\">\n",
       "      <th></th>\n",
       "      <th>X1</th>\n",
       "      <th>X2</th>\n",
       "      <th>Y</th>\n",
       "    </tr>\n",
       "  </thead>\n",
       "  <tbody>\n",
       "    <tr>\n",
       "      <th>count</th>\n",
       "      <td>10000.000000</td>\n",
       "      <td>10000.000000</td>\n",
       "      <td>10000.000000</td>\n",
       "    </tr>\n",
       "    <tr>\n",
       "      <th>mean</th>\n",
       "      <td>4.987176</td>\n",
       "      <td>4.975304</td>\n",
       "      <td>0.134098</td>\n",
       "    </tr>\n",
       "    <tr>\n",
       "      <th>std</th>\n",
       "      <td>2.887263</td>\n",
       "      <td>2.922002</td>\n",
       "      <td>1.457316</td>\n",
       "    </tr>\n",
       "    <tr>\n",
       "      <th>min</th>\n",
       "      <td>0.000455</td>\n",
       "      <td>0.000009</td>\n",
       "      <td>-6.909322</td>\n",
       "    </tr>\n",
       "    <tr>\n",
       "      <th>25%</th>\n",
       "      <td>2.474693</td>\n",
       "      <td>2.391601</td>\n",
       "      <td>-0.807557</td>\n",
       "    </tr>\n",
       "    <tr>\n",
       "      <th>50%</th>\n",
       "      <td>5.006735</td>\n",
       "      <td>5.015225</td>\n",
       "      <td>0.170740</td>\n",
       "    </tr>\n",
       "    <tr>\n",
       "      <th>75%</th>\n",
       "      <td>7.489884</td>\n",
       "      <td>7.518698</td>\n",
       "      <td>1.141935</td>\n",
       "    </tr>\n",
       "    <tr>\n",
       "      <th>max</th>\n",
       "      <td>9.999538</td>\n",
       "      <td>9.999657</td>\n",
       "      <td>5.436696</td>\n",
       "    </tr>\n",
       "  </tbody>\n",
       "</table>\n",
       "</div>"
      ],
      "text/plain": [
       "                 X1            X2             Y\n",
       "count  10000.000000  10000.000000  10000.000000\n",
       "mean       4.987176      4.975304      0.134098\n",
       "std        2.887263      2.922002      1.457316\n",
       "min        0.000455      0.000009     -6.909322\n",
       "25%        2.474693      2.391601     -0.807557\n",
       "50%        5.006735      5.015225      0.170740\n",
       "75%        7.489884      7.518698      1.141935\n",
       "max        9.999538      9.999657      5.436696"
      ]
     },
     "execution_count": 3,
     "metadata": {},
     "output_type": "execute_result"
    }
   ],
   "source": [
    "df_analytical = gandy_datagen.generate_analytical_data(to_csv=False)\n",
    "df_analytical.describe()"
   ]
  },
  {
   "cell_type": "markdown",
   "id": "fewer-father",
   "metadata": {},
   "source": [
    ">The data is 2 dimensional in features and one in targets."
   ]
  },
  {
   "cell_type": "markdown",
   "id": "abstract-adult",
   "metadata": {},
   "source": [
    "<span style=\"color:red\"> NOTE: CHANGED THE ANALYTICAL GENERATION SLIGHTLY TO HAVE A BETTER/MORE INTERPERATBLE DATASET (lower sample range, more points, less noise magnitude. was pretty much all noise before)</span>"
   ]
  },
  {
   "cell_type": "code",
   "execution_count": 4,
   "id": "quarterly-estimate",
   "metadata": {},
   "outputs": [
    {
     "data": {
      "text/plain": [
       "<mpl_toolkits.mplot3d.art3d.Path3DCollection at 0x1cb31bb10>"
      ]
     },
     "execution_count": 4,
     "metadata": {},
     "output_type": "execute_result"
    },
    {
     "data": {
      "image/png": "[encoded data removed]",
      "text/plain": [
       "<Figure size 432x288 with 1 Axes>"
      ]
     },
     "metadata": {
      "needs_background": "light"
     },
     "output_type": "display_data"
    }
   ],
   "source": [
    "fig = plt.figure()\n",
    "ax = fig.add_subplot(111, projection='3d')\n",
    "ax.scatter(df_analytical['X1'], df_analytical['X2'], df_analytical['Y'], marker='.', color='r', s=1)"
   ]
  },
  {
   "cell_type": "markdown",
   "id": "applicable-execution",
   "metadata": {},
   "source": [
    "> The underlying analytical functions are planwaves, and we see an increase in noise as either X feature gets larger. We would like to reproduce this noise as uncertainty with our models."
   ]
  },
  {
   "cell_type": "code",
   "execution_count": 5,
   "id": "administrative-investing",
   "metadata": {},
   "outputs": [],
   "source": [
    "## prepare the data as arrays\n",
    "Xs = df_analytical[['X1', 'X2']].values\n",
    "Ys = df_analytical['Y'].values.reshape(-1,1)\n",
    "#. split into train and test\n",
    "Xsr, Xst, Ysr, Yst = sklearn.model_selection.train_test_split(Xs, Ys, train_size=0.97)\n",
    "\n",
    "#. scale and normalize our data\n",
    "norm = sklearn.preprocessing.Normalizer()\n",
    "scale = sklearn.preprocessing.StandardScaler()\n",
    "Xsr = norm.fit_transform(Xsr)\n",
    "Xst = norm.transform(Xst)\n",
    "Ysr = scale.fit_transform(Ysr)\n",
    "Yst = scale.transform(Yst)"
   ]
  },
  {
   "cell_type": "markdown",
   "id": "ceramic-tulsa",
   "metadata": {},
   "source": [
    "***"
   ]
  },
  {
   "cell_type": "markdown",
   "id": "spatial-graphics",
   "metadata": {},
   "source": [
    "We then instatialize and train our models on these datasets. All models are built on the same class framework so follow the same procedure."
   ]
  },
  {
   "cell_type": "markdown",
   "id": "scenic-indianapolis",
   "metadata": {},
   "source": [
    "## <span style=\"color:orange\">Gaussian processes</span>"
   ]
  },
  {
   "cell_type": "code",
   "execution_count": 5,
   "id": "naked-phoenix",
   "metadata": {},
   "outputs": [],
   "source": [
    "# instantialize the model\n",
    "gp = gandy_gps.ucGaussianProcess.R(xshape=Xsr.shape[1:],\n",
    "                                   yshape=Ysr.shape[1:])"
   ]
  },
  {
   "cell_type": "code",
   "execution_count": 6,
   "id": "heated-bandwidth",
   "metadata": {},
   "outputs": [],
   "source": [
    "# train it on the training data\n",
    "gp.train(Xsr, Ysr)"
   ]
  },
  {
   "cell_type": "code",
   "execution_count": 7,
   "id": "convertible-fellow",
   "metadata": {},
   "outputs": [
    {
     "name": "stderr",
     "output_type": "stream",
     "text": [
      "/Users/ek/miniconda3/envs/gandy_env/lib/python3.7/site-packages/sklearn/gaussian_process/_gpr.py:370: UserWarning: Predicted variances smaller than 0. Setting those variances to 0.\n",
      "  warnings.warn(\"Predicted variances smaller than 0. \"\n"
     ]
    }
   ],
   "source": [
    "# make predictions\n",
    "gp_preds, gp_uncs = gp.predict(Xst)"
   ]
  },
  {
   "cell_type": "markdown",
   "id": "annoying-asian",
   "metadata": {},
   "source": [
    "## <span style=\"color:orange\"> Bayesian Neural Networks</span>"
   ]
  },
  {
   "cell_type": "code",
   "execution_count": 8,
   "id": "civic-archives",
   "metadata": {},
   "outputs": [
    {
     "name": "stdout",
     "output_type": "stream",
     "text": [
      "WARNING:tensorflow:From /Users/ek/miniconda3/envs/gandy_env/lib/python3.7/site-packages/tensorflow/python/ops/linalg/linear_operator_lower_triangular.py:167: calling LinearOperator.__init__ (from tensorflow.python.ops.linalg.linear_operator) with graph_parents is deprecated and will be removed in a future version.\n",
      "Instructions for updating:\n",
      "Do not pass `graph_parents`.  They will  no longer be used.\n"
     ]
    }
   ],
   "source": [
    "# instantialize the model\n",
    "bnn = gandy_bnns.BNN(xshape=Xsr.shape[1:],\n",
    "                     yshape=Ysr.shape[1:],\n",
    "                     train_size=len(Xsr))   # we must also pass the size of the training set, necessary for BNNs to weight the divergence"
   ]
  },
  {
   "cell_type": "code",
   "execution_count": 9,
   "id": "perceived-relay",
   "metadata": {
    "collapsed": true,
    "jupyter": {
     "outputs_hidden": true
    }
   },
   "outputs": [
    {
     "name": "stdout",
     "output_type": "stream",
     "text": [
      "Epoch 1/100\n",
      "304/304 [==============================] - 2s 1ms/step - loss: 1.7389 - MSE: 1.9883\n",
      "Epoch 2/100\n",
      "304/304 [==============================] - 0s 1ms/step - loss: 1.4874 - MSE: 2.1786\n",
      "Epoch 3/100\n",
      "304/304 [==============================] - 0s 1ms/step - loss: 1.4937 - MSE: 2.4088\n",
      "Epoch 4/100\n",
      "304/304 [==============================] - 0s 1ms/step - loss: 1.4793 - MSE: 2.2868\n",
      "Epoch 5/100\n",
      "304/304 [==============================] - 0s 1ms/step - loss: 1.4570 - MSE: 2.1420\n",
      "Epoch 6/100\n",
      "304/304 [==============================] - 0s 1ms/step - loss: 1.4507 - MSE: 2.1701\n",
      "Epoch 7/100\n",
      "304/304 [==============================] - 0s 1ms/step - loss: 1.4510 - MSE: 2.0478\n",
      "Epoch 8/100\n",
      "304/304 [==============================] - 0s 1ms/step - loss: 1.4554 - MSE: 2.2147\n",
      "Epoch 9/100\n",
      "304/304 [==============================] - 0s 1ms/step - loss: 1.4564 - MSE: 2.0923\n",
      "Epoch 10/100\n",
      "304/304 [==============================] - 0s 1ms/step - loss: 1.4456 - MSE: 1.9938\n",
      "Epoch 11/100\n",
      "304/304 [==============================] - 0s 1ms/step - loss: 1.4455 - MSE: 2.0838\n",
      "Epoch 12/100\n",
      "304/304 [==============================] - 0s 1ms/step - loss: 1.4281 - MSE: 2.1093\n",
      "Epoch 13/100\n",
      "304/304 [==============================] - 0s 1ms/step - loss: 1.4533 - MSE: 2.1110\n",
      "Epoch 14/100\n",
      "304/304 [==============================] - 0s 1ms/step - loss: 1.4438 - MSE: 2.0333\n",
      "Epoch 15/100\n",
      "304/304 [==============================] - 0s 1ms/step - loss: 1.4329 - MSE: 2.0634\n",
      "Epoch 16/100\n",
      "304/304 [==============================] - 0s 1ms/step - loss: 1.4179 - MSE: 2.0011\n",
      "Epoch 17/100\n",
      "304/304 [==============================] - 0s 1ms/step - loss: 1.4408 - MSE: 2.0571\n",
      "Epoch 18/100\n",
      "304/304 [==============================] - 0s 1000us/step - loss: 1.4274 - MSE: 2.0228\n",
      "Epoch 19/100\n",
      "304/304 [==============================] - 0s 976us/step - loss: 1.4537 - MSE: 2.0605\n",
      "Epoch 20/100\n",
      "304/304 [==============================] - 0s 981us/step - loss: 1.4334 - MSE: 2.0724\n",
      "Epoch 21/100\n",
      "304/304 [==============================] - 0s 1ms/step - loss: 1.4349 - MSE: 2.0354\n",
      "Epoch 22/100\n",
      "304/304 [==============================] - 0s 999us/step - loss: 1.4334 - MSE: 2.0099\n",
      "Epoch 23/100\n",
      "304/304 [==============================] - 0s 993us/step - loss: 1.4328 - MSE: 1.9895\n",
      "Epoch 24/100\n",
      "304/304 [==============================] - 0s 992us/step - loss: 1.4445 - MSE: 2.1013\n",
      "Epoch 25/100\n",
      "304/304 [==============================] - 0s 999us/step - loss: 1.4320 - MSE: 1.9520\n",
      "Epoch 26/100\n",
      "304/304 [==============================] - 0s 1ms/step - loss: 1.4426 - MSE: 2.0055\n",
      "Epoch 27/100\n",
      "304/304 [==============================] - 0s 989us/step - loss: 1.4306 - MSE: 2.0217\n",
      "Epoch 28/100\n",
      "304/304 [==============================] - 0s 999us/step - loss: 1.4334 - MSE: 1.9660\n",
      "Epoch 29/100\n",
      "304/304 [==============================] - 0s 988us/step - loss: 1.4283 - MSE: 2.0611\n",
      "Epoch 30/100\n",
      "304/304 [==============================] - 0s 989us/step - loss: 1.4230 - MSE: 1.9740\n",
      "Epoch 31/100\n",
      "304/304 [==============================] - 0s 987us/step - loss: 1.4232 - MSE: 1.9668\n",
      "Epoch 32/100\n",
      "304/304 [==============================] - 0s 983us/step - loss: 1.4278 - MSE: 1.9900\n",
      "Epoch 33/100\n",
      "304/304 [==============================] - 0s 996us/step - loss: 1.4243 - MSE: 1.9788\n",
      "Epoch 34/100\n",
      "304/304 [==============================] - 0s 989us/step - loss: 1.4284 - MSE: 2.0542\n",
      "Epoch 35/100\n",
      "304/304 [==============================] - 0s 987us/step - loss: 1.4149 - MSE: 1.9847\n",
      "Epoch 36/100\n",
      "304/304 [==============================] - 0s 990us/step - loss: 1.4327 - MSE: 2.0149\n",
      "Epoch 37/100\n",
      "304/304 [==============================] - 0s 997us/step - loss: 1.4309 - MSE: 2.0419\n",
      "Epoch 38/100\n",
      "304/304 [==============================] - 0s 991us/step - loss: 1.4209 - MSE: 2.0192\n",
      "Epoch 39/100\n",
      "304/304 [==============================] - 0s 989us/step - loss: 1.4244 - MSE: 2.0389\n",
      "Epoch 40/100\n",
      "304/304 [==============================] - 0s 994us/step - loss: 1.4164 - MSE: 1.9447\n",
      "Epoch 41/100\n",
      "304/304 [==============================] - 0s 992us/step - loss: 1.4299 - MSE: 1.9708\n",
      "Epoch 42/100\n",
      "304/304 [==============================] - 0s 988us/step - loss: 1.4220 - MSE: 2.0178\n",
      "Epoch 43/100\n",
      "304/304 [==============================] - 0s 990us/step - loss: 1.4185 - MSE: 2.0243\n",
      "Epoch 44/100\n",
      "304/304 [==============================] - 0s 991us/step - loss: 1.4092 - MSE: 1.9669\n",
      "Epoch 45/100\n",
      "304/304 [==============================] - 0s 990us/step - loss: 1.4250 - MSE: 2.0082\n",
      "Epoch 46/100\n",
      "304/304 [==============================] - 0s 990us/step - loss: 1.4169 - MSE: 1.9621\n",
      "Epoch 47/100\n",
      "304/304 [==============================] - 0s 988us/step - loss: 1.4138 - MSE: 1.9884\n",
      "Epoch 48/100\n",
      "304/304 [==============================] - 0s 987us/step - loss: 1.4161 - MSE: 1.9674\n",
      "Epoch 49/100\n",
      "304/304 [==============================] - 0s 993us/step - loss: 1.4302 - MSE: 2.0204\n",
      "Epoch 50/100\n",
      "304/304 [==============================] - 0s 989us/step - loss: 1.4265 - MSE: 2.0027\n",
      "Epoch 51/100\n",
      "304/304 [==============================] - 0s 991us/step - loss: 1.4188 - MSE: 1.9623\n",
      "Epoch 52/100\n",
      "304/304 [==============================] - 0s 987us/step - loss: 1.4267 - MSE: 2.0475\n",
      "Epoch 53/100\n",
      "304/304 [==============================] - 0s 991us/step - loss: 1.4085 - MSE: 1.9354\n",
      "Epoch 54/100\n",
      "304/304 [==============================] - 0s 991us/step - loss: 1.4127 - MSE: 2.0180\n",
      "Epoch 55/100\n",
      "304/304 [==============================] - 0s 994us/step - loss: 1.4237 - MSE: 1.9814\n",
      "Epoch 56/100\n",
      "304/304 [==============================] - 0s 987us/step - loss: 1.4210 - MSE: 1.9649\n",
      "Epoch 57/100\n",
      "304/304 [==============================] - 0s 991us/step - loss: 1.4273 - MSE: 2.0058\n",
      "Epoch 58/100\n",
      "304/304 [==============================] - 0s 989us/step - loss: 1.4152 - MSE: 1.9901\n",
      "Epoch 59/100\n",
      "304/304 [==============================] - 0s 989us/step - loss: 1.4176 - MSE: 1.9943\n",
      "Epoch 60/100\n",
      "304/304 [==============================] - 0s 987us/step - loss: 1.4355 - MSE: 2.0530\n",
      "Epoch 61/100\n",
      "304/304 [==============================] - 0s 989us/step - loss: 1.4150 - MSE: 1.9922\n",
      "Epoch 62/100\n",
      "304/304 [==============================] - 0s 991us/step - loss: 1.4231 - MSE: 2.0844\n",
      "Epoch 63/100\n",
      "304/304 [==============================] - 0s 988us/step - loss: 1.4367 - MSE: 2.0484\n",
      "Epoch 64/100\n",
      "304/304 [==============================] - 0s 989us/step - loss: 1.4348 - MSE: 2.0827\n",
      "Epoch 65/100\n",
      "304/304 [==============================] - 0s 998us/step - loss: 1.4138 - MSE: 2.0130\n",
      "Epoch 66/100\n",
      "304/304 [==============================] - 0s 989us/step - loss: 1.4221 - MSE: 2.0284\n",
      "Epoch 67/100\n",
      "304/304 [==============================] - 0s 986us/step - loss: 1.4287 - MSE: 2.0562\n",
      "Epoch 68/100\n",
      "304/304 [==============================] - 0s 999us/step - loss: 1.4202 - MSE: 2.0035\n",
      "Epoch 69/100\n",
      "304/304 [==============================] - 0s 990us/step - loss: 1.4227 - MSE: 2.0050\n",
      "Epoch 70/100\n",
      "304/304 [==============================] - 0s 1ms/step - loss: 1.4204 - MSE: 2.0361\n",
      "Epoch 71/100\n",
      "304/304 [==============================] - 0s 1ms/step - loss: 1.4114 - MSE: 1.9554\n",
      "Epoch 72/100\n",
      "304/304 [==============================] - 0s 1ms/step - loss: 1.4198 - MSE: 2.0236\n",
      "Epoch 73/100\n",
      "304/304 [==============================] - 0s 991us/step - loss: 1.4136 - MSE: 1.9338\n",
      "Epoch 74/100\n",
      "304/304 [==============================] - 0s 989us/step - loss: 1.4241 - MSE: 2.0243\n",
      "Epoch 75/100\n",
      "304/304 [==============================] - 0s 991us/step - loss: 1.4179 - MSE: 2.0235\n",
      "Epoch 76/100\n",
      "304/304 [==============================] - 0s 1000us/step - loss: 1.4012 - MSE: 1.9395\n",
      "Epoch 77/100\n",
      "304/304 [==============================] - 0s 989us/step - loss: 1.4167 - MSE: 2.0092\n",
      "Epoch 78/100\n",
      "304/304 [==============================] - 0s 989us/step - loss: 1.4383 - MSE: 2.0270\n",
      "Epoch 79/100\n",
      "304/304 [==============================] - 0s 999us/step - loss: 1.4218 - MSE: 1.9532\n",
      "Epoch 80/100\n",
      "304/304 [==============================] - 0s 990us/step - loss: 1.4253 - MSE: 2.0035\n",
      "Epoch 81/100\n",
      "304/304 [==============================] - 0s 993us/step - loss: 1.4205 - MSE: 2.0211\n",
      "Epoch 82/100\n",
      "304/304 [==============================] - 0s 1ms/step - loss: 1.4194 - MSE: 2.0244\n",
      "Epoch 83/100\n",
      "304/304 [==============================] - 0s 1ms/step - loss: 1.4223 - MSE: 2.0755\n",
      "Epoch 84/100\n",
      "304/304 [==============================] - 0s 1ms/step - loss: 1.4206 - MSE: 1.9325\n",
      "Epoch 85/100\n",
      "304/304 [==============================] - 0s 989us/step - loss: 1.4096 - MSE: 1.9600\n",
      "Epoch 86/100\n",
      "304/304 [==============================] - 0s 991us/step - loss: 1.4231 - MSE: 1.9839\n",
      "Epoch 87/100\n",
      "304/304 [==============================] - 0s 990us/step - loss: 1.4288 - MSE: 1.9846\n",
      "Epoch 88/100\n",
      "304/304 [==============================] - 0s 991us/step - loss: 1.4201 - MSE: 1.9819\n",
      "Epoch 89/100\n",
      "304/304 [==============================] - 0s 989us/step - loss: 1.4287 - MSE: 1.9517\n",
      "Epoch 90/100\n",
      "304/304 [==============================] - 0s 989us/step - loss: 1.4085 - MSE: 1.9693\n",
      "Epoch 91/100\n",
      "304/304 [==============================] - 0s 1ms/step - loss: 1.4171 - MSE: 2.0385\n",
      "Epoch 92/100\n",
      "304/304 [==============================] - 0s 1ms/step - loss: 1.4215 - MSE: 2.0465\n",
      "Epoch 93/100\n",
      "304/304 [==============================] - 0s 1ms/step - loss: 1.4277 - MSE: 2.0518\n",
      "Epoch 94/100\n",
      "304/304 [==============================] - 0s 1000us/step - loss: 1.4225 - MSE: 1.9506\n",
      "Epoch 95/100\n",
      "304/304 [==============================] - 0s 988us/step - loss: 1.4092 - MSE: 1.9933\n",
      "Epoch 96/100\n",
      "304/304 [==============================] - 0s 988us/step - loss: 1.4188 - MSE: 1.9851\n",
      "Epoch 97/100\n",
      "304/304 [==============================] - 0s 986us/step - loss: 1.4175 - MSE: 2.0576\n",
      "Epoch 98/100\n",
      "304/304 [==============================] - 0s 988us/step - loss: 1.4285 - MSE: 2.0136\n",
      "Epoch 99/100\n",
      "304/304 [==============================] - 0s 992us/step - loss: 1.4221 - MSE: 1.9923\n",
      "Epoch 100/100\n",
      "304/304 [==============================] - 0s 1ms/step - loss: 1.4297 - MSE: 2.0380\n"
     ]
    }
   ],
   "source": [
    "# train it on the training data\n",
    "bnn.train(Xsr, Ysr, epochs=100)"
   ]
  },
  {
   "cell_type": "code",
   "execution_count": 10,
   "id": "accessible-counter",
   "metadata": {},
   "outputs": [],
   "source": [
    "# make predictions\n",
    "bnn_preds, bnn_uncs = bnn.predict(Xst)"
   ]
  },
  {
   "cell_type": "markdown",
   "id": "based-celtic",
   "metadata": {},
   "source": [
    "## <span style=\"color:orange\"> Generative Adversarial Networks</span>"
   ]
  },
  {
   "cell_type": "code",
   "execution_count": 13,
   "id": "pressed-frame",
   "metadata": {},
   "outputs": [],
   "source": [
    "# instantialize the model\n",
    "gan = gandy_gans.GAN(xshape=Xsr.shape[1:],\n",
    "                     yshape=Ysr.shape[1:])"
   ]
  },
  {
   "cell_type": "code",
   "execution_count": 14,
   "id": "ceramic-sister",
   "metadata": {},
   "outputs": [
    {
     "name": "stdout",
     "output_type": "stream",
     "text": [
      "Step 1000: \tAvg gen loss 1.0312977125048637, \tAvg discrim loss 1.0506012362241746\n",
      "Step 2000: \tAvg gen loss 1.0684097777605057, \tAvg discrim loss 0.9848177514076233\n",
      "Step 3000: \tAvg gen loss 1.082771799981594, \tAvg discrim loss 0.9694629002213478\n",
      "Step 4000: \tAvg gen loss 1.0932629212141036, \tAvg discrim loss 0.9650449637770653\n",
      "Step 5000: \tAvg gen loss 1.0932814731001854, \tAvg discrim loss 0.9630258381962776\n",
      "Step 6000: \tAvg gen loss 1.0950385361909867, \tAvg discrim loss 0.9615688610076905\n",
      "Step 7000: \tAvg gen loss 1.1016779359579085, \tAvg discrim loss 0.9576533975601196\n",
      "Step 8000: \tAvg gen loss 1.0910147476196288, \tAvg discrim loss 0.9635934470891953\n",
      "Step 9000: \tAvg gen loss 1.0989939161539077, \tAvg discrim loss 0.9632411943674087\n",
      "Step 10000: \tAvg gen loss 1.0981571505069732, \tAvg discrim loss 0.9597116685509681\n",
      "TIMING: model fitting took 39.363 s\n"
     ]
    }
   ],
   "source": [
    "# train it on the training data\n",
    "gan.train(Xsr, Ysr, batches=10000)"
   ]
  },
  {
   "cell_type": "code",
   "execution_count": 15,
   "id": "assigned-transaction",
   "metadata": {},
   "outputs": [],
   "source": [
    "# make predictions\n",
    "gan_preds, gan_uncs = gan.predict(Xst)"
   ]
  },
  {
   "cell_type": "markdown",
   "id": "requested-notification",
   "metadata": {},
   "source": [
    "## <span style=\"color:orange\"> Looking back at losses</span>"
   ]
  },
  {
   "cell_type": "markdown",
   "id": "aquatic-communist",
   "metadata": {},
   "source": [
    "All of the models store any returned losses/metrics. These can be accessed at the `sessions` attribute for every training session, and additionally if the model accepts loss types other than default it can be specified to the model."
   ]
  },
  {
   "cell_type": "code",
   "execution_count": 16,
   "id": "heavy-monkey",
   "metadata": {},
   "outputs": [
    {
     "data": {
      "text/plain": [
       "{'Starttime: 385.4602': [[1.0312977125048637,\n",
       "   1.0684097777605057,\n",
       "   1.082771799981594,\n",
       "   1.0932629212141036,\n",
       "   1.0932814731001854,\n",
       "   1.0950385361909867,\n",
       "   1.1016779359579085,\n",
       "   1.0910147476196288,\n",
       "   1.0989939161539077,\n",
       "   1.0981571505069732,\n",
       "   1.0981571505069732],\n",
       "  [1.0506012362241746,\n",
       "   0.9848177514076233,\n",
       "   0.9694629002213478,\n",
       "   0.9650449637770653,\n",
       "   0.9630258381962776,\n",
       "   0.9615688610076905,\n",
       "   0.9576533975601196,\n",
       "   0.9635934470891953,\n",
       "   0.9632411943674087,\n",
       "   0.9597116685509681,\n",
       "   0.9597116685509681]]}"
      ]
     },
     "execution_count": 16,
     "metadata": {},
     "output_type": "execute_result"
    }
   ],
   "source": [
    "gan.sessions"
   ]
  },
  {
   "cell_type": "code",
   "execution_count": 17,
   "id": "dress-night",
   "metadata": {},
   "outputs": [],
   "source": [
    "gen_loss = gan.sessions['Starttime: 385.4602'][0]\n",
    "dis_loss = gan.sessions['Starttime: 385.4602'][1]"
   ]
  },
  {
   "cell_type": "code",
   "execution_count": 18,
   "id": "accessible-screw",
   "metadata": {},
   "outputs": [
    {
     "data": {
      "text/plain": [
       "<matplotlib.legend.Legend at 0x1c2bf8f50>"
      ]
     },
     "execution_count": 18,
     "metadata": {},
     "output_type": "execute_result"
    },
    {
     "data": {
      "image/png": "[encoded data removed]",
      "text/plain": [
       "<Figure size 432x288 with 1 Axes>"
      ]
     },
     "metadata": {
      "needs_background": "light"
     },
     "output_type": "display_data"
    }
   ],
   "source": [
    "fig, ax = plt.subplots()\n",
    "ax.plot(gen_loss, label='generator')\n",
    "ax.plot(dis_loss, label='discriminator')\n",
    "ax.set_ylabel('loss', size=18)\n",
    "ax.set_xlabel('training rounds', size=18)\n",
    "plt.legend()"
   ]
  },
  {
   "cell_type": "markdown",
   "id": "mathematical-fitness",
   "metadata": {},
   "source": [
    "## <span style=\"color:orange\"> Predictions</span>"
   ]
  },
  {
   "cell_type": "code",
   "execution_count": 20,
   "id": "secret-christmas",
   "metadata": {},
   "outputs": [
    {
     "data": {
      "text/plain": [
       "<matplotlib.legend.Legend at 0x1c3377d90>"
      ]
     },
     "execution_count": 20,
     "metadata": {},
     "output_type": "execute_result"
    },
    {
     "data": {
      "image/png": "[encoded data removed]",
      "text/plain": [
       "<Figure size 432x288 with 1 Axes>"
      ]
     },
     "metadata": {
      "needs_background": "light"
     },
     "output_type": "display_data"
    }
   ],
   "source": [
    "fig, ax = plt.subplots()\n",
    "minv, maxv = Yst.min(), Yst.max()\n",
    "ax.set_ylim([minv, maxv])\n",
    "ax.set_xlim([minv, maxv])\n",
    "ax.errorbar(Yst, gp_preds, yerr=gp_uncs.reshape(-1), ls='none', label='GP', linewidth=1, capsize=2, c='b')\n",
    "ax.errorbar(Yst, bnn_preds, yerr=bnn_uncs.reshape(-1), ls='none', label='BNN', linewidth=1, capsize=2, c='g')\n",
    "ax.errorbar(Yst, gan_preds, yerr=gan_uncs.reshape(-1), ls='none', label='GAN', linewidth=1, capsize=2, c='y')\n",
    "ax.plot([minv, maxv], [minv, maxv], c='r', label='ideal model')\n",
    "plt.legend()"
   ]
  },
  {
   "cell_type": "markdown",
   "id": "leading-florence",
   "metadata": {},
   "source": [
    "All of the models at a galance to pretty poorly!\n",
    "\n",
    "__GP__: The predicted values are mostly stationary. This is fairly expected given that we have only two features and a very nonlinear function. It also is predicting 0 uncertianty for most quantities.\n",
    "\n",
    "__BNN__: Something seems very off here, the model predicts the same quantiy and uncertainty for all values.\n",
    "\n",
    "__GAN__: The model seems to be on track knowing the fickyness of GANs. Also by the descriminator and generator losses diverging we can tell that we need to change some hyperparameters."
   ]
  },
  {
   "cell_type": "markdown",
   "id": "flexible-south",
   "metadata": {},
   "source": [
    "***"
   ]
  },
  {
   "cell_type": "markdown",
   "id": "injured-chart",
   "metadata": {},
   "source": [
    "It might also be desireable to conduct hyperparameter search over a given model type's hyperparameters. This is achieved with the an optimization routine using [Optuna](https://github.com/optuna/optuna)'s code wrapped to fit our Uncertainty Model class."
   ]
  },
  {
   "cell_type": "markdown",
   "id": "vietnamese-rochester",
   "metadata": {},
   "source": [
    "## <span style=\"color:orange\">Running a hyperparameter optimization</span>"
   ]
  },
  {
   "cell_type": "markdown",
   "id": "saved-spyware",
   "metadata": {},
   "source": [
    "Search for BNN hyperparameters - activation function and learning rate"
   ]
  },
  {
   "cell_type": "code",
   "execution_count": 9,
   "id": "visible-devices",
   "metadata": {},
   "outputs": [],
   "source": [
    "# define the search space\n",
    "search_space = {'activation': ['tanh', 'relu', 'sigmoid'],               # signifies a choice\n",
    "                'optimizer_learning_rate': (0.001, 0.1, 'loguniform')}    # a continues lognormal sample space\n",
    "\n",
    "# and the optimizing routine\n",
    "opt = gandy_opt.OptRoutine(subject=gandy_bnns.BNN,\n",
    "                           Xs=Xsr,\n",
    "                           Ys=Ysr,\n",
    "                           search_space=search_space,\n",
    "                           xshape=Xsr.shape[1:],\n",
    "                           yshape=Ysr.shape[1:],\n",
    "                           train_size=len(Xsr))"
   ]
  },
  {
   "cell_type": "code",
   "execution_count": 10,
   "id": "intended-tourist",
   "metadata": {},
   "outputs": [
    {
     "name": "stdout",
     "output_type": "stream",
     "text": [
      "Cannot have more than one k, val_data, val_frac. Deleting k\n",
      "Cannot have more than one k, val_data, val_frac.  Deleting val_data\n"
     ]
    },
    {
     "ename": "TypeError",
     "evalue": "create_study() got an unexpected keyword argument 'xshape'",
     "output_type": "error",
     "traceback": [
      "\u001b[0;31m---------------------------------------------------------------------------\u001b[0m",
      "\u001b[0;31mTypeError\u001b[0m                                 Traceback (most recent call last)",
      "\u001b[0;32m<ipython-input-10-18652d8c351e>\u001b[0m in \u001b[0;36m<module>\u001b[0;34m\u001b[0m\n\u001b[1;32m      1\u001b[0m \u001b[0;31m# run the optimization\u001b[0m\u001b[0;34m\u001b[0m\u001b[0;34m\u001b[0m\u001b[0;34m\u001b[0m\u001b[0m\n\u001b[0;32m----> 2\u001b[0;31m \u001b[0mopt\u001b[0m\u001b[0;34m.\u001b[0m\u001b[0moptimize\u001b[0m\u001b[0;34m(\u001b[0m\u001b[0mn_trials\u001b[0m\u001b[0;34m=\u001b[0m\u001b[0;36m10\u001b[0m\u001b[0;34m)\u001b[0m\u001b[0;34m\u001b[0m\u001b[0;34m\u001b[0m\u001b[0m\n\u001b[0m",
      "\u001b[0;32m~/miniconda3/envs/gandy_env/lib/python3.7/site-packages/gandy/optimization/hypersearch.py\u001b[0m in \u001b[0;36moptimize\u001b[0;34m(self, search_space, **kwargs)\u001b[0m\n\u001b[1;32m    630\u001b[0m \u001b[0;34m\u001b[0m\u001b[0m\n\u001b[1;32m    631\u001b[0m         \u001b[0mself\u001b[0m\u001b[0;34m.\u001b[0m\u001b[0m_set_objective\u001b[0m\u001b[0;34m(\u001b[0m\u001b[0;34m)\u001b[0m\u001b[0;34m\u001b[0m\u001b[0;34m\u001b[0m\u001b[0m\n\u001b[0;32m--> 632\u001b[0;31m         \u001b[0mself\u001b[0m\u001b[0;34m.\u001b[0m\u001b[0m_set_study\u001b[0m\u001b[0;34m(\u001b[0m\u001b[0;34m)\u001b[0m\u001b[0;34m\u001b[0m\u001b[0;34m\u001b[0m\u001b[0m\n\u001b[0m\u001b[1;32m    633\u001b[0m \u001b[0;34m\u001b[0m\u001b[0m\n\u001b[1;32m    634\u001b[0m         \u001b[0mself\u001b[0m\u001b[0;34m.\u001b[0m\u001b[0mstudy\u001b[0m\u001b[0;34m.\u001b[0m\u001b[0moptimize\u001b[0m\u001b[0;34m(\u001b[0m\u001b[0mself\u001b[0m\u001b[0;34m.\u001b[0m\u001b[0mobjective\u001b[0m\u001b[0;34m,\u001b[0m \u001b[0;34m**\u001b[0m\u001b[0mkwargs\u001b[0m\u001b[0;34m)\u001b[0m\u001b[0;34m\u001b[0m\u001b[0;34m\u001b[0m\u001b[0m\n",
      "\u001b[0;32m~/miniconda3/envs/gandy_env/lib/python3.7/site-packages/gandy/optimization/hypersearch.py\u001b[0m in \u001b[0;36m_set_study\u001b[0;34m(self)\u001b[0m\n\u001b[1;32m    595\u001b[0m         \u001b[0;31m# . create study optuna.create_study\u001b[0m\u001b[0;34m\u001b[0m\u001b[0;34m\u001b[0m\u001b[0;34m\u001b[0m\u001b[0m\n\u001b[1;32m    596\u001b[0m         \u001b[0;31m# . set to self.study\u001b[0m\u001b[0;34m\u001b[0m\u001b[0;34m\u001b[0m\u001b[0;34m\u001b[0m\u001b[0m\n\u001b[0;32m--> 597\u001b[0;31m         \u001b[0mstudy\u001b[0m \u001b[0;34m=\u001b[0m \u001b[0moptuna\u001b[0m\u001b[0;34m.\u001b[0m\u001b[0mcreate_study\u001b[0m\u001b[0;34m(\u001b[0m\u001b[0;34m**\u001b[0m\u001b[0mself\u001b[0m\u001b[0;34m.\u001b[0m\u001b[0mall_kwargs\u001b[0m\u001b[0;34m)\u001b[0m\u001b[0;34m\u001b[0m\u001b[0;34m\u001b[0m\u001b[0m\n\u001b[0m\u001b[1;32m    598\u001b[0m         \u001b[0mself\u001b[0m\u001b[0;34m.\u001b[0m\u001b[0mstudy\u001b[0m \u001b[0;34m=\u001b[0m \u001b[0mstudy\u001b[0m\u001b[0;34m\u001b[0m\u001b[0;34m\u001b[0m\u001b[0m\n\u001b[1;32m    599\u001b[0m         \u001b[0;32mreturn\u001b[0m\u001b[0;34m\u001b[0m\u001b[0;34m\u001b[0m\u001b[0m\n",
      "\u001b[0;31mTypeError\u001b[0m: create_study() got an unexpected keyword argument 'xshape'"
     ]
    }
   ],
   "source": [
    "# run the optimization\n",
    "opt.optimize(n_trials=10)"
   ]
  },
  {
   "cell_type": "code",
   "execution_count": 3,
   "id": "passing-habitat",
   "metadata": {},
   "outputs": [],
   "source": [
    "## Code"
   ]
  },
  {
   "cell_type": "markdown",
   "id": "incomplete-riding",
   "metadata": {},
   "source": [
    "***"
   ]
  },
  {
   "cell_type": "markdown",
   "id": "ordinary-float",
   "metadata": {},
   "source": [
    "Finally, we want to evaluate our model on its ability to predict uncertainty, such that future predictions of uncertainty are trusted."
   ]
  },
  {
   "cell_type": "code",
   "execution_count": 1,
   "id": "resident-album",
   "metadata": {},
   "outputs": [],
   "source": [
    "## Code"
   ]
  },
  {
   "cell_type": "code",
   "execution_count": 2,
   "id": "crude-harris",
   "metadata": {},
   "outputs": [],
   "source": [
    "## Code"
   ]
  },
  {
   "cell_type": "code",
   "execution_count": 3,
   "id": "advised-december",
   "metadata": {},
   "outputs": [],
   "source": [
    "## Code"
   ]
  }
 ],
 "metadata": {
  "kernelspec": {
   "display_name": "Python 3",
   "language": "python",
   "name": "python3"
  },
  "language_info": {
   "codemirror_mode": {
    "name": "ipython",
    "version": 3
   },
   "file_extension": ".py",
   "mimetype": "text/x-python",
   "name": "python",
   "nbconvert_exporter": "python",
   "pygments_lexer": "ipython3",
   "version": "3.7.10"
  }
 },
 "nbformat": 4,
 "nbformat_minor": 5
}
