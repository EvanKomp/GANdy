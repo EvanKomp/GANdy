{
 "cells": [
  {
   "cell_type": "markdown",
   "metadata": {},
   "source": [
    "# <p style=\"text-align: center;\"> Demo of GANs </p>"
   ]
  },
  {
   "cell_type": "code",
   "execution_count": 1,
   "metadata": {},
   "outputs": [
    {
     "name": "stderr",
     "output_type": "stream",
     "text": [
      "WARNING:root:This caffe2 python run does not have GPU support. Will run in CPU only mode.\n"
     ]
    }
   ],
   "source": [
    "import matplotlib.pyplot as plt\n",
    "import numpy as np\n",
    "import sklearn.datasets\n",
    "import sklearn.model_selection\n",
    "import sklearn.preprocessing\n",
    "import deepchem\n",
    "\n",
    "from gandy.models import gans"
   ]
  },
  {
   "cell_type": "code",
   "execution_count": 2,
   "metadata": {},
   "outputs": [
    {
     "data": {
      "text/plain": [
       "'2.5.0.dev'"
      ]
     },
     "execution_count": 2,
     "metadata": {},
     "output_type": "execute_result"
    }
   ],
   "source": [
    "deepchem.__version__"
   ]
  },
  {
   "cell_type": "markdown",
   "metadata": {},
   "source": [
    "# <p style=\"text-align: center;\"> A regression task, using the boston dataset </p>"
   ]
  },
  {
   "cell_type": "markdown",
   "metadata": {},
   "source": [
    "## <p style=\"text-align: center;\"> Get Data </p>"
   ]
  },
  {
   "cell_type": "code",
   "execution_count": 3,
   "metadata": {},
   "outputs": [],
   "source": [
    "# load data\n",
    "Xs, Ys = sklearn.datasets.load_boston(return_X_y=True)\n",
    "Xs_train, Xs_test, Ys_train, Ys_test = sklearn.model_selection.train_test_split(Xs, Ys, train_size = 0.8)\n",
    "\n",
    "# normalize\n",
    "x_norm = sklearn.preprocessing.Normalizer()\n",
    "Xs_train = x_norm.fit_transform(Xs_train)\n",
    "Xs_test = x_norm.transform(Xs_test)\n",
    "\n",
    "# scale the ys\n",
    "SCALING_FACTOR = np.max(Ys_train)\n",
    "Ys_train = Ys_train/SCALING_FACTOR\n",
    "Ys_test = Ys_test/SCALING_FACTOR"
   ]
  },
  {
   "cell_type": "code",
   "execution_count": 4,
   "metadata": {},
   "outputs": [
    {
     "name": "stdout",
     "output_type": "stream",
     "text": [
      "(13,)\n"
     ]
    }
   ],
   "source": [
    "xshape = (Xs_train.shape[1],)  # remove zero dimension\n",
    "print(xshape)\n",
    "yshape = (1,)  # regression"
   ]
  },
  {
   "cell_type": "markdown",
   "metadata": {},
   "source": [
    "## <p style=\"text-align: center;\"> Initialize Model </p>"
   ]
  },
  {
   "cell_type": "markdown",
   "metadata": {},
   "source": [
    "###  <p style=\"text-align: center;\">Hyperparam options! </p>\n",
    "\n",
    "### Below are the defaults for\n",
    "\n",
    "#### GAN stuff:\n",
    "- ```n_classes=yshape[0]```\n",
    "- ```noise_shape=(10,)```\n",
    "\n",
    "\n",
    "### *ALL HYPERPARMS BELOW MUST START WITH*\n",
    "```generator_``` or ```discriminator_```\n",
    "\n",
    "#### Network architecture:\n",
    "\n",
    "- ```layer_dimensions=[128]```\n",
    "- ```dropout=0.05```\n",
    "\n",
    "\n",
    "#### Layer kwargs:\n",
    "\n",
    "- ```activation='relu'```\n",
    "- ```use_bias=True```\n",
    "- ```kernel_initializer=\"glorot_uniform\"```\n",
    "- ```bias_initializer=\"zeros\"```\n",
    "- ```kernel_regularizer='l2'```\n",
    "- ```bias_regularizer=None```\n",
    "- ```activity_regularizer=None```\n",
    "- ```kernel_constraint=None```\n",
    "- ```bias_constraint=None```\n"
   ]
  },
  {
   "cell_type": "code",
   "execution_count": 5,
   "metadata": {},
   "outputs": [
    {
     "name": "stderr",
     "output_type": "stream",
     "text": [
      "C:\\Users\\saman\\Downloads\\Anaconda\\lib\\site-packages\\gandy\\models\\dcgan.py:96: UserWarning: Incorrect key learning_rate.                    Must start with generator_ or discriminator_\n",
      "  Must start with generator_ or discriminator_\")\n"
     ]
    }
   ],
   "source": [
    "\"\"\"\n",
    "Specifying n_classes yields a cGAN (contional GAN),\n",
    "whereas a normal GAN is instanciated if n_classes is not specified.\n",
    "For our uncertainty estimator, we always want a cGAN, so always set n_classes.\n",
    "\"\"\"\n",
    "# According the Lee and Seok, flip x and y:\n",
    "# todo why specifying learning rate make non nan loss?\n",
    "GAN = gans.GAN(xshape=yshape, yshape=xshape, n_classes=13, noise_shape=(5,), learning_rate=1e-4)\n",
    "\n",
    "# A normal data generation call:\n",
    "# GAN = gans.GAN(xshape=xshape, yshape=yshape, n_classes=1, noise_shape=(5,), learning_rate=1e-4)"
   ]
  },
  {
   "cell_type": "markdown",
   "metadata": {},
   "source": [
    "## <p style=\"text-align: center;\"> Train! </p>"
   ]
  },
  {
   "cell_type": "markdown",
   "metadata": {},
   "source": [
    "###  <p style=\"text-align: center;\">Hyperparam options</p>\n",
    "\n",
    "#### Training:\n",
    "- ```batches=50```\n",
    "\n",
    "    (Number of batches of bootstrapped data, e.g., epochs, to train on)"
   ]
  },
  {
   "cell_type": "code",
   "execution_count": 6,
   "metadata": {},
   "outputs": [
    {
     "name": "stdout",
     "output_type": "stream",
     "text": [
      "Ending global_step 999: generator average loss 0.69536, discriminator average loss 1.38287\n",
      "Ending global_step 1999: generator average loss 0.696301, discriminator average loss 1.38107\n",
      "Ending global_step 2999: generator average loss 0.700762, discriminator average loss 1.37573\n",
      "Ending global_step 3999: generator average loss 0.70827, discriminator average loss 1.37029\n",
      "Ending global_step 4999: generator average loss 0.718148, discriminator average loss 1.36587\n",
      "Ending global_step 5999: generator average loss 0.731029, discriminator average loss 1.36072\n",
      "Ending global_step 6999: generator average loss 0.744675, discriminator average loss 1.35707\n",
      "Ending global_step 7999: generator average loss 0.760214, discriminator average loss 1.35337\n",
      "Ending global_step 8999: generator average loss 0.779749, discriminator average loss 1.35111\n",
      "Ending global_step 9999: generator average loss 0.792294, discriminator average loss 1.34851\n",
      "Ending global_step 10999: generator average loss 0.80483, discriminator average loss 1.34579\n",
      "Ending global_step 11999: generator average loss 0.827481, discriminator average loss 1.3447\n",
      "Ending global_step 12999: generator average loss 0.83564, discriminator average loss 1.34294\n",
      "Ending global_step 13999: generator average loss 0.856997, discriminator average loss 1.3411\n",
      "Ending global_step 14999: generator average loss 0.875456, discriminator average loss 1.34052\n",
      "Ending global_step 15999: generator average loss 0.891027, discriminator average loss 1.33849\n",
      "Ending global_step 16999: generator average loss 0.906972, discriminator average loss 1.33875\n",
      "Ending global_step 17999: generator average loss 0.925623, discriminator average loss 1.33755\n",
      "Ending global_step 18999: generator average loss 0.93856, discriminator average loss 1.33633\n",
      "Ending global_step 19999: generator average loss 0.959721, discriminator average loss 1.33743\n",
      "Ending global_step 20999: generator average loss 0.972299, discriminator average loss 1.3351\n",
      "Ending global_step 21999: generator average loss 0.995185, discriminator average loss 1.33613\n",
      "Ending global_step 22999: generator average loss 1.01666, discriminator average loss 1.33549\n",
      "Ending global_step 23999: generator average loss 1.0242, discriminator average loss 1.33608\n",
      "Ending global_step 24999: generator average loss 1.02922, discriminator average loss 1.33904\n",
      "Ending global_step 25999: generator average loss 1.04247, discriminator average loss 1.34015\n",
      "Ending global_step 26999: generator average loss 1.06492, discriminator average loss 1.34133\n",
      "Ending global_step 27999: generator average loss 1.06534, discriminator average loss 1.34221\n",
      "Ending global_step 28999: generator average loss 1.08166, discriminator average loss 1.34247\n",
      "Ending global_step 29999: generator average loss 1.0789, discriminator average loss 1.34523\n",
      "Ending global_step 30999: generator average loss 1.09527, discriminator average loss 1.34513\n",
      "Ending global_step 31999: generator average loss 1.11206, discriminator average loss 1.34491\n",
      "Ending global_step 32999: generator average loss 1.10704, discriminator average loss 1.34602\n",
      "Ending global_step 33999: generator average loss 1.13349, discriminator average loss 1.34522\n",
      "Ending global_step 34999: generator average loss 1.13885, discriminator average loss 1.34669\n",
      "Ending global_step 35999: generator average loss 1.15736, discriminator average loss 1.34602\n",
      "Ending global_step 36999: generator average loss 1.1358, discriminator average loss 1.34578\n",
      "Ending global_step 37999: generator average loss 1.14593, discriminator average loss 1.34663\n",
      "Ending global_step 38999: generator average loss 1.16952, discriminator average loss 1.34695\n",
      "Ending global_step 39999: generator average loss 1.17907, discriminator average loss 1.34748\n",
      "Ending global_step 40999: generator average loss 1.15456, discriminator average loss 1.34795\n",
      "Ending global_step 41999: generator average loss 1.17172, discriminator average loss 1.34837\n",
      "Ending global_step 42999: generator average loss 1.19077, discriminator average loss 1.34858\n",
      "Ending global_step 43999: generator average loss 1.18499, discriminator average loss 1.34921\n",
      "Ending global_step 44999: generator average loss 1.19698, discriminator average loss 1.34782\n",
      "Ending global_step 45999: generator average loss 1.19372, discriminator average loss 1.34842\n",
      "Ending global_step 46999: generator average loss 1.20151, discriminator average loss 1.34818\n",
      "Ending global_step 47999: generator average loss 1.21182, discriminator average loss 1.34853\n",
      "Ending global_step 48999: generator average loss 1.23156, discriminator average loss 1.34689\n",
      "Ending global_step 49999: generator average loss 1.22769, discriminator average loss 1.34798\n",
      "TIMING: model fitting took 475.032 s\n"
     ]
    }
   ],
   "source": [
    "# A normal data generation call:\n",
    "# GAN.train(Xs_train, Ys_train, batches=50000)\n",
    "\n",
    "# Flipping x and y:\n",
    "GAN.train(Ys_train, Xs_train, batches=50000)"
   ]
  },
  {
   "cell_type": "code",
   "execution_count": 7,
   "metadata": {},
   "outputs": [
    {
     "data": {
      "text/plain": [
       "100"
      ]
     },
     "execution_count": 7,
     "metadata": {},
     "output_type": "execute_result"
    }
   ],
   "source": [
    "GAN._model.batch_size # this is automaticaally baked into deepchem"
   ]
  },
  {
   "cell_type": "markdown",
   "metadata": {},
   "source": [
    "## <p style=\"text-align: center;\"> Predict </p>"
   ]
  },
  {
   "cell_type": "markdown",
   "metadata": {},
   "source": [
    "###  <p style=\"text-align: center;\">Hyperparam options</p>\n",
    "\n",
    "#### Prediction:\n",
    "- ```num_predictions=100```\n",
    "\n",
    "    (Number of predictions to make in order to sample uncertainties.)"
   ]
  },
  {
   "cell_type": "code",
   "execution_count": 8,
   "metadata": {},
   "outputs": [],
   "source": [
    "# Because this is a conditional GAN, MUST specify Ys or a warning will be thrown\n",
    "\n",
    "# A normal data generation call:\n",
    "# preds, uncs, flags = GAN.predict(Xs_test, uc_threshold = 0.01, Ys=Ys_test)\n",
    "\n",
    "# Flipping x and y:\n",
    "# preds, uncs, flags = GAN.predict(Ys_test, uc_threshold = 0.01, Ys=Xs_test)"
   ]
  },
  {
   "cell_type": "markdown",
   "metadata": {},
   "source": [
    "## <p style=\"text-align: center;\"> Results </p>"
   ]
  },
  {
   "cell_type": "code",
   "execution_count": 21,
   "metadata": {},
   "outputs": [
    {
     "name": "stdout",
     "output_type": "stream",
     "text": [
      "0.015745554\n"
     ]
    }
   ],
   "source": [
    "preds, uncs = GAN._predict(Ys_test, Xs_test, num_predictions=500)\n",
    "thresh = 0.02\n",
    "flags = uncs > thresh\n",
    "print(np.average(uncs))"
   ]
  },
  {
   "cell_type": "code",
   "execution_count": 22,
   "metadata": {},
   "outputs": [
    {
     "data": {
      "text/plain": [
       "Text(0.5, 1.0, 'Certain and uncertain predictions, boston data')"
      ]
     },
     "execution_count": 22,
     "metadata": {},
     "output_type": "execute_result"
    },
    {
     "data": {
      "image/png": "[encoded data removed]",
      "text/plain": [
       "<Figure size 864x576 with 1 Axes>"
      ]
     },
     "metadata": {
      "needs_background": "light"
     },
     "output_type": "display_data"
    }
   ],
   "source": [
    "# figure\n",
    "fig, ax = plt.subplots(figsize=(12,8))\n",
    "\n",
    "# plotting predicted vs true\n",
    "# scatter\n",
    "ax.errorbar(Ys_test.reshape(-1,1)[flags == False],\n",
    "           preds[flags == False], yerr = uncs[flags == False], ls='none',\n",
    "           c=plt.cm.viridis(0.5), marker='o', label=f'$\\sigma \\leq {thresh}$')\n",
    "ax.errorbar(Ys_test.reshape(-1,1)[flags == True],\n",
    "           preds[flags == True], yerr = uncs[flags == True], ls='none',\n",
    "           c='r', marker='o', label=f'$\\sigma > {thresh}$')\n",
    "min_y, max_y = np.min(Ys_test.reshape(-1,1)), np.max(Ys_test.reshape(-1,1))\n",
    "# perfect results\n",
    "x = np.linspace(min_y, max_y, 100)\n",
    "ax.plot(x, x, 'k-', label= \"Perfect results\")\n",
    "\n",
    "# axes labels formatting\n",
    "ax.set_xlabel('True target', fontsize=24)\n",
    "ax.set_ylabel('Predicted target', fontsize=24)\n",
    "\n",
    "# tick formatting\n",
    "plt.setp(ax.get_xticklabels(), fontsize=18)\n",
    "plt.setp(ax.get_yticklabels(), fontsize=18)\n",
    "ax.tick_params(direction='in', width=2, length=8)\n",
    "\n",
    "# legend & title\n",
    "plt.legend(fontsize=18)\n",
    "plt.title('Certain and uncertain predictions, boston data', size=24)"
   ]
  },
  {
   "cell_type": "code",
   "execution_count": null,
   "metadata": {},
   "outputs": [],
   "source": []
  }
 ],
 "metadata": {
  "kernelspec": {
   "display_name": "Python 3",
   "language": "python",
   "name": "python3"
  },
  "language_info": {
   "codemirror_mode": {
    "name": "ipython",
    "version": 3
   },
   "file_extension": ".py",
   "mimetype": "text/x-python",
   "name": "python",
   "nbconvert_exporter": "python",
   "pygments_lexer": "ipython3",
   "version": "3.7.3"
  }
 },
 "nbformat": 4,
 "nbformat_minor": 5
}
